{
 "cells": [
  {
   "cell_type": "code",
   "execution_count": null,
   "metadata": {},
   "outputs": [],
   "source": [
    "import glob\n",
    "import os\n",
    "import cv2\n",
    "import time\n",
    "import face_detection\n",
    "import torch\n",
    "import datetime"
   ]
  },
  {
   "cell_type": "code",
   "execution_count": null,
   "metadata": {},
   "outputs": [],
   "source": [
    "torch.cuda.is_available()"
   ]
  },
  {
   "cell_type": "code",
   "execution_count": null,
   "metadata": {},
   "outputs": [],
   "source": [
    "def draw_faces(im, bboxes):\n",
    "    for bbox in bboxes:\n",
    "        x0, y0, x1, y1 = [int(_) for _ in bbox]\n",
    "        cv2.rectangle(im, (x0, y0), (x1, y1), (0, 0, 255), 2)"
   ]
  },
  {
   "cell_type": "code",
   "execution_count": null,
   "metadata": {},
   "outputs": [],
   "source": [
    "detector = face_detection.build_detector(\"DSFDDetector\", max_resolution=1080)\n",
    "def detect_and_draw_faces(im):\n",
    "    dets = detector.detect(im[:, :, ::-1])[:, :4]\n",
    "    draw_faces(im, dets)"
   ]
  },
  {
   "cell_type": "code",
   "execution_count": null,
   "metadata": {},
   "outputs": [],
   "source": [
    "cap = cv2.VideoCapture(\"video_in.mp4\")\n",
    "\n",
    "if (not cap.isOpened()):\n",
    "    print(\"Error opening video stream or file\")\n",
    "\n",
    "width  = int(cap.get(3))\n",
    "height = int(cap.get(4))\n",
    "fps = float(cap.get(cv2.CAP_PROP_FPS))\n",
    "fourcc = cv2.VideoWriter_fourcc(*'MP4V')\n",
    "out = cv2.VideoWriter(\"video_out.mp4\", fourcc, fps, (width, height))\n",
    "\n",
    "total_frames = int(cap.get(cv2.CAP_PROP_FRAME_COUNT))\n",
    "processed_frames = 0\n",
    "started_at = time.time()\n",
    "\n",
    "frame_counter = 0\n",
    "while(cap.isOpened()):\n",
    "    t0 = time.time()\n",
    "    ret, frame = cap.read()\n",
    "    if ret == True:\n",
    "        frame_counter += 1\n",
    "        detect_and_draw_faces(frame)\n",
    "        cv2.imshow('Frame', frame)\n",
    "        out.write(frame)\n",
    "        if cv2.waitKey(1) & 0xFF == ord('q'):\n",
    "            break\n",
    "        \n",
    "        frame_time = time.time() - t0\n",
    "        processed_frames += 1\n",
    "        remaining_frames = total_frames - processed_frames\n",
    "        print(f\"Frames:{processed_frames}/{total_frames} %{100 * processed_frames / total_frames:.2f} FPS:{1/frame_time:.2f} ETA:{datetime.timedelta(seconds=int(remaining_frames * frame_time))}\", end=\"\\r\")\n",
    "    else:\n",
    "        break\n",
    "cap.release()\n",
    "out.release()\n",
    "cv2.destroyAllWindows()\n",
    "#print(f\"\\nDone in {datetime.timedelta(seconds=int(time.time() - started_at))}{space_buffer}\")"
   ]
  },
  {
   "cell_type": "code",
   "execution_count": null,
   "metadata": {},
   "outputs": [],
   "source": []
  }
 ],
 "metadata": {
  "kernelspec": {
   "display_name": "Python 3",
   "language": "python",
   "name": "python3"
  },
  "language_info": {
   "codemirror_mode": {
    "name": "ipython",
    "version": 3
   },
   "file_extension": ".py",
   "mimetype": "text/x-python",
   "name": "python",
   "nbconvert_exporter": "python",
   "pygments_lexer": "ipython3",
   "version": "3.8.3"
  }
 },
 "nbformat": 4,
 "nbformat_minor": 4
}
