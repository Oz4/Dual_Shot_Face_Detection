{
 "cells": [
  {
   "cell_type": "code",
   "execution_count": 1,
   "metadata": {},
   "outputs": [],
   "source": [
    "import glob\n",
    "import os\n",
    "import cv2\n",
    "import time\n",
    "import face_detection"
   ]
  },
  {
   "cell_type": "code",
   "execution_count": 2,
   "metadata": {},
   "outputs": [],
   "source": [
    "def draw_faces(im, bboxes):\n",
    "    for bbox in bboxes:\n",
    "        x0, y0, x1, y1 = [int(_) for _ in bbox]\n",
    "        cv2.rectangle(im, (x0, y0), (x1, y1), (0, 0, 255), 2)"
   ]
  },
  {
   "cell_type": "code",
   "execution_count": null,
   "metadata": {},
   "outputs": [],
   "source": [
    "if __name__ == \"__main__\":\n",
    "    impaths = \"images\"\n",
    "    impaths = glob.glob(os.path.join(impaths, \"*.jpg\"))\n",
    "    detector = face_detection.build_detector(\n",
    "        \"DSFDDetector\",\n",
    "        max_resolution=1080\n",
    "    )\n",
    "    for impath in impaths:\n",
    "        if impath.endswith(\"out.jpg\"): continue\n",
    "        im = cv2.imread(impath)\n",
    "        print(\"Processing:\", impath)\n",
    "        t = time.time()\n",
    "        dets = detector.detect(\n",
    "            im[:, :, ::-1]\n",
    "        )[:, :4]\n",
    "        print(f\"Detection time: {time.time()- t:.3f}\")\n",
    "        draw_faces(im, dets)\n",
    "        imname = os.path.basename(impath).split(\".\")[0]\n",
    "        output_path = os.path.join(\n",
    "            os.path.dirname(impath),\n",
    "            f\"{imname}_out.jpg\"\n",
    "        )\n",
    "\n",
    "        cv2.imwrite(output_path, im)"
   ]
  },
  {
   "cell_type": "code",
   "execution_count": null,
   "metadata": {},
   "outputs": [],
   "source": []
  }
 ],
 "metadata": {
  "kernelspec": {
   "display_name": "Python 3",
   "language": "python",
   "name": "python3"
  },
  "language_info": {
   "codemirror_mode": {
    "name": "ipython",
    "version": 3
   },
   "file_extension": ".py",
   "mimetype": "text/x-python",
   "name": "python",
   "nbconvert_exporter": "python",
   "pygments_lexer": "ipython3",
   "version": "3.8.3"
  }
 },
 "nbformat": 4,
 "nbformat_minor": 4
}
